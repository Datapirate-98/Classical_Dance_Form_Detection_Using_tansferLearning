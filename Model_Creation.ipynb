{
 "cells": [
  {
   "cell_type": "code",
   "execution_count": 1,
   "metadata": {},
   "outputs": [
    {
     "name": "stderr",
     "output_type": "stream",
     "text": [
      "Using TensorFlow backend.\n"
     ]
    }
   ],
   "source": [
    "import numpy as np\n",
    "import matplotlib.pyplot as plt\n",
    "import os\n",
    "import glob as glob\n",
    "from tensorflow.keras import layers\n",
    "from tensorflow.keras import Model\n",
    "from tensorflow.keras.applications.vgg19 import VGG19  #also used VGG19 but got a less accuracy\n",
    "from tensorflow.keras.preprocessing.image import ImageDataGenerator\n",
    "import tensorflow as tf\n",
    "import cv2\n",
    "from keras.utils import np_utils\n",
    "from sklearn.model_selection import train_test_split\n",
    "%matplotlib inline"
   ]
  },
  {
   "cell_type": "code",
   "execution_count": 2,
   "metadata": {},
   "outputs": [
    {
     "name": "stdout",
     "output_type": "stream",
     "text": [
      "Downloading data from https://github.com/fchollet/deep-learning-models/releases/download/v0.1/vgg19_weights_tf_dim_ordering_tf_kernels.h5\n",
      "574717952/574710816 [==============================] - 1664s 3us/step\n",
      "Model: \"vgg19\"\n",
      "_________________________________________________________________\n",
      "Layer (type)                 Output Shape              Param #   \n",
      "=================================================================\n",
      "input_1 (InputLayer)         [(None, 224, 224, 3)]     0         \n",
      "_________________________________________________________________\n",
      "block1_conv1 (Conv2D)        (None, 224, 224, 64)      1792      \n",
      "_________________________________________________________________\n",
      "block1_conv2 (Conv2D)        (None, 224, 224, 64)      36928     \n",
      "_________________________________________________________________\n",
      "block1_pool (MaxPooling2D)   (None, 112, 112, 64)      0         \n",
      "_________________________________________________________________\n",
      "block2_conv1 (Conv2D)        (None, 112, 112, 128)     73856     \n",
      "_________________________________________________________________\n",
      "block2_conv2 (Conv2D)        (None, 112, 112, 128)     147584    \n",
      "_________________________________________________________________\n",
      "block2_pool (MaxPooling2D)   (None, 56, 56, 128)       0         \n",
      "_________________________________________________________________\n",
      "block3_conv1 (Conv2D)        (None, 56, 56, 256)       295168    \n",
      "_________________________________________________________________\n",
      "block3_conv2 (Conv2D)        (None, 56, 56, 256)       590080    \n",
      "_________________________________________________________________\n",
      "block3_conv3 (Conv2D)        (None, 56, 56, 256)       590080    \n",
      "_________________________________________________________________\n",
      "block3_conv4 (Conv2D)        (None, 56, 56, 256)       590080    \n",
      "_________________________________________________________________\n",
      "block3_pool (MaxPooling2D)   (None, 28, 28, 256)       0         \n",
      "_________________________________________________________________\n",
      "block4_conv1 (Conv2D)        (None, 28, 28, 512)       1180160   \n",
      "_________________________________________________________________\n",
      "block4_conv2 (Conv2D)        (None, 28, 28, 512)       2359808   \n",
      "_________________________________________________________________\n",
      "block4_conv3 (Conv2D)        (None, 28, 28, 512)       2359808   \n",
      "_________________________________________________________________\n",
      "block4_conv4 (Conv2D)        (None, 28, 28, 512)       2359808   \n",
      "_________________________________________________________________\n",
      "block4_pool (MaxPooling2D)   (None, 14, 14, 512)       0         \n",
      "_________________________________________________________________\n",
      "block5_conv1 (Conv2D)        (None, 14, 14, 512)       2359808   \n",
      "_________________________________________________________________\n",
      "block5_conv2 (Conv2D)        (None, 14, 14, 512)       2359808   \n",
      "_________________________________________________________________\n",
      "block5_conv3 (Conv2D)        (None, 14, 14, 512)       2359808   \n",
      "_________________________________________________________________\n",
      "block5_conv4 (Conv2D)        (None, 14, 14, 512)       2359808   \n",
      "_________________________________________________________________\n",
      "block5_pool (MaxPooling2D)   (None, 7, 7, 512)         0         \n",
      "_________________________________________________________________\n",
      "flatten (Flatten)            (None, 25088)             0         \n",
      "_________________________________________________________________\n",
      "fc1 (Dense)                  (None, 4096)              102764544 \n",
      "_________________________________________________________________\n",
      "fc2 (Dense)                  (None, 4096)              16781312  \n",
      "_________________________________________________________________\n",
      "predictions (Dense)          (None, 1000)              4097000   \n",
      "=================================================================\n",
      "Total params: 143,667,240\n",
      "Trainable params: 0\n",
      "Non-trainable params: 143,667,240\n",
      "_________________________________________________________________\n"
     ]
    }
   ],
   "source": [
    "incp = VGG19(input_shape = (224, 224, 3), \n",
    "                                include_top = True, \n",
    "                                weights = \"imagenet\", pooling = \"max\")\n",
    "\n",
    "for layer in incp.layers:\n",
    "    layer.trainable = False\n",
    "    \n",
    "incp.summary()"
   ]
  },
  {
   "cell_type": "code",
   "execution_count": null,
   "metadata": {},
   "outputs": [],
   "source": []
  },
  {
   "cell_type": "code",
   "execution_count": 8,
   "metadata": {},
   "outputs": [
    {
     "name": "stdout",
     "output_type": "stream",
     "text": [
      "['dataset/train\\\\bharatanatyam', 'dataset/train\\\\kathak', 'dataset/train\\\\kathakali', 'dataset/train\\\\kuchipudi', 'dataset/train\\\\manipuri', 'dataset/train\\\\mohiniyattam', 'dataset/train\\\\odissi', 'dataset/train\\\\sattriya']\n"
     ]
    }
   ],
   "source": [
    "category_dir_train = glob.glob(\"dataset/train/*\")\n",
    "#category_dir_test = glob.glob(\"dataset/test/*\")\n",
    "print(category_dir_train)\n",
    "#print(category_dir_test)"
   ]
  },
  {
   "cell_type": "code",
   "execution_count": 6,
   "metadata": {},
   "outputs": [],
   "source": [
    "#x = layers.Flatten()(incp.output)"
   ]
  },
  {
   "cell_type": "code",
   "execution_count": 9,
   "metadata": {},
   "outputs": [
    {
     "ename": "ValueError",
     "evalue": "The name \"flatten\" is used 2 times in the model. All layer names should be unique.",
     "output_type": "error",
     "traceback": [
      "\u001b[1;31m---------------------------------------------------------------------------\u001b[0m",
      "\u001b[1;31mValueError\u001b[0m                                Traceback (most recent call last)",
      "\u001b[1;32m<ipython-input-9-b31032fb7c63>\u001b[0m in \u001b[0;36m<module>\u001b[1;34m\u001b[0m\n\u001b[0;32m      2\u001b[0m \u001b[0mx\u001b[0m \u001b[1;33m=\u001b[0m \u001b[0mlayers\u001b[0m\u001b[1;33m.\u001b[0m\u001b[0mDropout\u001b[0m\u001b[1;33m(\u001b[0m\u001b[1;36m0.2\u001b[0m\u001b[1;33m)\u001b[0m\u001b[1;33m(\u001b[0m\u001b[0mx\u001b[0m\u001b[1;33m)\u001b[0m\u001b[1;33m\u001b[0m\u001b[1;33m\u001b[0m\u001b[0m\n\u001b[0;32m      3\u001b[0m \u001b[0mx\u001b[0m \u001b[1;33m=\u001b[0m \u001b[0mlayers\u001b[0m\u001b[1;33m.\u001b[0m\u001b[0mDense\u001b[0m\u001b[1;33m(\u001b[0m\u001b[1;36m8\u001b[0m\u001b[1;33m,\u001b[0m \u001b[0mactivation\u001b[0m \u001b[1;33m=\u001b[0m \u001b[1;34m\"softmax\"\u001b[0m\u001b[1;33m)\u001b[0m\u001b[1;33m(\u001b[0m\u001b[0mx\u001b[0m\u001b[1;33m)\u001b[0m\u001b[1;33m\u001b[0m\u001b[1;33m\u001b[0m\u001b[0m\n\u001b[1;32m----> 4\u001b[1;33m \u001b[0mmodel\u001b[0m \u001b[1;33m=\u001b[0m \u001b[0mModel\u001b[0m\u001b[1;33m(\u001b[0m\u001b[0mincp\u001b[0m\u001b[1;33m.\u001b[0m\u001b[0minput\u001b[0m\u001b[1;33m,\u001b[0m \u001b[0mx\u001b[0m\u001b[1;33m)\u001b[0m\u001b[1;33m\u001b[0m\u001b[1;33m\u001b[0m\u001b[0m\n\u001b[0m\u001b[0;32m      5\u001b[0m \u001b[0mmodel\u001b[0m\u001b[1;33m.\u001b[0m\u001b[0msummary\u001b[0m\u001b[1;33m(\u001b[0m\u001b[1;33m)\u001b[0m\u001b[1;33m\u001b[0m\u001b[1;33m\u001b[0m\u001b[0m\n",
      "\u001b[1;32m~\\Anaconda3\\envs\\gpu_env\\lib\\site-packages\\tensorflow_core\\python\\keras\\engine\\training.py\u001b[0m in \u001b[0;36m__init__\u001b[1;34m(self, *args, **kwargs)\u001b[0m\n\u001b[0;32m    144\u001b[0m \u001b[1;33m\u001b[0m\u001b[0m\n\u001b[0;32m    145\u001b[0m   \u001b[1;32mdef\u001b[0m \u001b[0m__init__\u001b[0m\u001b[1;33m(\u001b[0m\u001b[0mself\u001b[0m\u001b[1;33m,\u001b[0m \u001b[1;33m*\u001b[0m\u001b[0margs\u001b[0m\u001b[1;33m,\u001b[0m \u001b[1;33m**\u001b[0m\u001b[0mkwargs\u001b[0m\u001b[1;33m)\u001b[0m\u001b[1;33m:\u001b[0m\u001b[1;33m\u001b[0m\u001b[1;33m\u001b[0m\u001b[0m\n\u001b[1;32m--> 146\u001b[1;33m     \u001b[0msuper\u001b[0m\u001b[1;33m(\u001b[0m\u001b[0mModel\u001b[0m\u001b[1;33m,\u001b[0m \u001b[0mself\u001b[0m\u001b[1;33m)\u001b[0m\u001b[1;33m.\u001b[0m\u001b[0m__init__\u001b[0m\u001b[1;33m(\u001b[0m\u001b[1;33m*\u001b[0m\u001b[0margs\u001b[0m\u001b[1;33m,\u001b[0m \u001b[1;33m**\u001b[0m\u001b[0mkwargs\u001b[0m\u001b[1;33m)\u001b[0m\u001b[1;33m\u001b[0m\u001b[1;33m\u001b[0m\u001b[0m\n\u001b[0m\u001b[0;32m    147\u001b[0m     \u001b[0m_keras_api_gauge\u001b[0m\u001b[1;33m.\u001b[0m\u001b[0mget_cell\u001b[0m\u001b[1;33m(\u001b[0m\u001b[1;34m'model'\u001b[0m\u001b[1;33m)\u001b[0m\u001b[1;33m.\u001b[0m\u001b[0mset\u001b[0m\u001b[1;33m(\u001b[0m\u001b[1;32mTrue\u001b[0m\u001b[1;33m)\u001b[0m\u001b[1;33m\u001b[0m\u001b[1;33m\u001b[0m\u001b[0m\n\u001b[0;32m    148\u001b[0m     \u001b[1;31m# initializing _distribution_strategy here since it is possible to call\u001b[0m\u001b[1;33m\u001b[0m\u001b[1;33m\u001b[0m\u001b[1;33m\u001b[0m\u001b[0m\n",
      "\u001b[1;32m~\\Anaconda3\\envs\\gpu_env\\lib\\site-packages\\tensorflow_core\\python\\keras\\engine\\network.py\u001b[0m in \u001b[0;36m__init__\u001b[1;34m(self, *args, **kwargs)\u001b[0m\n\u001b[0;32m    165\u001b[0m         'inputs' in kwargs and 'outputs' in kwargs):\n\u001b[0;32m    166\u001b[0m       \u001b[1;31m# Graph network\u001b[0m\u001b[1;33m\u001b[0m\u001b[1;33m\u001b[0m\u001b[1;33m\u001b[0m\u001b[0m\n\u001b[1;32m--> 167\u001b[1;33m       \u001b[0mself\u001b[0m\u001b[1;33m.\u001b[0m\u001b[0m_init_graph_network\u001b[0m\u001b[1;33m(\u001b[0m\u001b[1;33m*\u001b[0m\u001b[0margs\u001b[0m\u001b[1;33m,\u001b[0m \u001b[1;33m**\u001b[0m\u001b[0mkwargs\u001b[0m\u001b[1;33m)\u001b[0m\u001b[1;33m\u001b[0m\u001b[1;33m\u001b[0m\u001b[0m\n\u001b[0m\u001b[0;32m    168\u001b[0m     \u001b[1;32melse\u001b[0m\u001b[1;33m:\u001b[0m\u001b[1;33m\u001b[0m\u001b[1;33m\u001b[0m\u001b[0m\n\u001b[0;32m    169\u001b[0m       \u001b[1;31m# Subclassed network\u001b[0m\u001b[1;33m\u001b[0m\u001b[1;33m\u001b[0m\u001b[1;33m\u001b[0m\u001b[0m\n",
      "\u001b[1;32m~\\Anaconda3\\envs\\gpu_env\\lib\\site-packages\\tensorflow_core\\python\\training\\tracking\\base.py\u001b[0m in \u001b[0;36m_method_wrapper\u001b[1;34m(self, *args, **kwargs)\u001b[0m\n\u001b[0;32m    455\u001b[0m     \u001b[0mself\u001b[0m\u001b[1;33m.\u001b[0m\u001b[0m_self_setattr_tracking\u001b[0m \u001b[1;33m=\u001b[0m \u001b[1;32mFalse\u001b[0m  \u001b[1;31m# pylint: disable=protected-access\u001b[0m\u001b[1;33m\u001b[0m\u001b[1;33m\u001b[0m\u001b[0m\n\u001b[0;32m    456\u001b[0m     \u001b[1;32mtry\u001b[0m\u001b[1;33m:\u001b[0m\u001b[1;33m\u001b[0m\u001b[1;33m\u001b[0m\u001b[0m\n\u001b[1;32m--> 457\u001b[1;33m       \u001b[0mresult\u001b[0m \u001b[1;33m=\u001b[0m \u001b[0mmethod\u001b[0m\u001b[1;33m(\u001b[0m\u001b[0mself\u001b[0m\u001b[1;33m,\u001b[0m \u001b[1;33m*\u001b[0m\u001b[0margs\u001b[0m\u001b[1;33m,\u001b[0m \u001b[1;33m**\u001b[0m\u001b[0mkwargs\u001b[0m\u001b[1;33m)\u001b[0m\u001b[1;33m\u001b[0m\u001b[1;33m\u001b[0m\u001b[0m\n\u001b[0m\u001b[0;32m    458\u001b[0m     \u001b[1;32mfinally\u001b[0m\u001b[1;33m:\u001b[0m\u001b[1;33m\u001b[0m\u001b[1;33m\u001b[0m\u001b[0m\n\u001b[0;32m    459\u001b[0m       \u001b[0mself\u001b[0m\u001b[1;33m.\u001b[0m\u001b[0m_self_setattr_tracking\u001b[0m \u001b[1;33m=\u001b[0m \u001b[0mprevious_value\u001b[0m  \u001b[1;31m# pylint: disable=protected-access\u001b[0m\u001b[1;33m\u001b[0m\u001b[1;33m\u001b[0m\u001b[0m\n",
      "\u001b[1;32m~\\Anaconda3\\envs\\gpu_env\\lib\\site-packages\\tensorflow_core\\python\\keras\\engine\\network.py\u001b[0m in \u001b[0;36m_init_graph_network\u001b[1;34m(self, inputs, outputs, name, **kwargs)\u001b[0m\n\u001b[0;32m    318\u001b[0m     \u001b[1;31m# Keep track of the network's nodes and layers.\u001b[0m\u001b[1;33m\u001b[0m\u001b[1;33m\u001b[0m\u001b[1;33m\u001b[0m\u001b[0m\n\u001b[0;32m    319\u001b[0m     nodes, nodes_by_depth, layers, _ = _map_graph_network(\n\u001b[1;32m--> 320\u001b[1;33m         self.inputs, self.outputs)\n\u001b[0m\u001b[0;32m    321\u001b[0m     \u001b[0mself\u001b[0m\u001b[1;33m.\u001b[0m\u001b[0m_network_nodes\u001b[0m \u001b[1;33m=\u001b[0m \u001b[0mnodes\u001b[0m\u001b[1;33m\u001b[0m\u001b[1;33m\u001b[0m\u001b[0m\n\u001b[0;32m    322\u001b[0m     \u001b[0mself\u001b[0m\u001b[1;33m.\u001b[0m\u001b[0m_nodes_by_depth\u001b[0m \u001b[1;33m=\u001b[0m \u001b[0mnodes_by_depth\u001b[0m\u001b[1;33m\u001b[0m\u001b[1;33m\u001b[0m\u001b[0m\n",
      "\u001b[1;32m~\\Anaconda3\\envs\\gpu_env\\lib\\site-packages\\tensorflow_core\\python\\keras\\engine\\network.py\u001b[0m in \u001b[0;36m_map_graph_network\u001b[1;34m(inputs, outputs)\u001b[0m\n\u001b[0;32m   1634\u001b[0m     \u001b[1;32mif\u001b[0m \u001b[0mall_names\u001b[0m\u001b[1;33m.\u001b[0m\u001b[0mcount\u001b[0m\u001b[1;33m(\u001b[0m\u001b[0mname\u001b[0m\u001b[1;33m)\u001b[0m \u001b[1;33m!=\u001b[0m \u001b[1;36m1\u001b[0m\u001b[1;33m:\u001b[0m\u001b[1;33m\u001b[0m\u001b[1;33m\u001b[0m\u001b[0m\n\u001b[0;32m   1635\u001b[0m       raise ValueError('The name \"' + name + '\" is used ' +\n\u001b[1;32m-> 1636\u001b[1;33m                        \u001b[0mstr\u001b[0m\u001b[1;33m(\u001b[0m\u001b[0mall_names\u001b[0m\u001b[1;33m.\u001b[0m\u001b[0mcount\u001b[0m\u001b[1;33m(\u001b[0m\u001b[0mname\u001b[0m\u001b[1;33m)\u001b[0m\u001b[1;33m)\u001b[0m \u001b[1;33m+\u001b[0m \u001b[1;34m' times in the model. '\u001b[0m\u001b[1;33m\u001b[0m\u001b[1;33m\u001b[0m\u001b[0m\n\u001b[0m\u001b[0;32m   1637\u001b[0m                        'All layer names should be unique.')\n\u001b[0;32m   1638\u001b[0m   \u001b[1;32mreturn\u001b[0m \u001b[0mnetwork_nodes\u001b[0m\u001b[1;33m,\u001b[0m \u001b[0mnodes_by_depth\u001b[0m\u001b[1;33m,\u001b[0m \u001b[0mlayers\u001b[0m\u001b[1;33m,\u001b[0m \u001b[0mlayers_by_depth\u001b[0m\u001b[1;33m\u001b[0m\u001b[1;33m\u001b[0m\u001b[0m\n",
      "\u001b[1;31mValueError\u001b[0m: The name \"flatten\" is used 2 times in the model. All layer names should be unique."
     ]
    }
   ],
   "source": [
    "x = layers.Dense(1024, activation = \"relu\")(x)\n",
    "x = layers.Dropout(0.2)(x)\n",
    "x = layers.Dense(8, activation = \"softmax\")(x)\n",
    "model = Model(incp.input, x)\n",
    "model.summary()"
   ]
  },
  {
   "cell_type": "code",
   "execution_count": 7,
   "metadata": {},
   "outputs": [],
   "source": [
    "\n",
    "model.compile(optimizer = \"Adam\", \n",
    "              loss = 'categorical_crossentropy', \n",
    "              metrics = ['accuracy'])"
   ]
  },
  {
   "cell_type": "code",
   "execution_count": 8,
   "metadata": {},
   "outputs": [],
   "source": [
    "train_datagen = ImageDataGenerator(rescale = 1./255,\n",
    "                                   #featurewise_center=False, \n",
    "        #samplewise_center=False,\n",
    "        #featurewise_std_normalization=False,\n",
    "        #samplewise_std_normalization=False,\n",
    "        #zca_whitening=False,  \n",
    "        rotation_range=20,  \n",
    "        zoom_range = 0.3, \n",
    "        width_shift_range=0.2, \n",
    "        height_shift_range=0.2,  \n",
    "        horizontal_flip=True,  \n",
    "        vertical_flip=False)\n",
    "\n",
    "test_datagen = ImageDataGenerator(rescale = 1./255)"
   ]
  },
  {
   "cell_type": "code",
   "execution_count": 9,
   "metadata": {},
   "outputs": [
    {
     "name": "stdout",
     "output_type": "stream",
     "text": [
      "Found 864 images belonging to 8 classes.\n"
     ]
    },
    {
     "data": {
      "text/plain": [
       "\"test_generator =  test_datagen.flow_from_directory( test_dir,\\n                                                          batch_size  = 16,\\n                                                          class_mode  = 'categorical', \\n                                                          target_size = (224, 224))\""
      ]
     },
     "execution_count": 9,
     "metadata": {},
     "output_type": "execute_result"
    }
   ],
   "source": [
    "train_dir = \"dataset/train\"\n",
    "#test_dir = \"dataset/test\"\n",
    "\n",
    "train_generator = train_datagen.flow_from_directory(train_dir,\n",
    "                                                    batch_size = 32,\n",
    "                                                    class_mode = 'categorical', \n",
    "                                                    target_size = (224, 224))\n",
    "\n",
    "\"\"\"test_generator =  test_datagen.flow_from_directory( test_dir,\n",
    "                                                          batch_size  = 16,\n",
    "                                                          class_mode  = 'categorical', \n",
    "                                                          target_size = (224, 224))\"\"\"\n"
   ]
  },
  {
   "cell_type": "code",
   "execution_count": 10,
   "metadata": {},
   "outputs": [
    {
     "name": "stdout",
     "output_type": "stream",
     "text": [
      "Train for 27 steps\n",
      "Epoch 1/50\n",
      "27/27 [==============================] - 45s 2s/step - loss: 2.3188 - accuracy: 0.2164\n",
      "Epoch 2/50\n",
      "27/27 [==============================] - 31s 1s/step - loss: 1.6476 - accuracy: 0.4086\n",
      "Epoch 3/50\n",
      "27/27 [==============================] - 31s 1s/step - loss: 1.4599 - accuracy: 0.4757\n",
      "Epoch 4/50\n",
      "27/27 [==============================] - 31s 1s/step - loss: 1.3138 - accuracy: 0.5544\n",
      "Epoch 5/50\n",
      "27/27 [==============================] - 31s 1s/step - loss: 1.2036 - accuracy: 0.5984\n",
      "Epoch 6/50\n",
      "27/27 [==============================] - 31s 1s/step - loss: 1.1821 - accuracy: 0.5995\n",
      "Epoch 7/50\n",
      "27/27 [==============================] - 31s 1s/step - loss: 1.1187 - accuracy: 0.6065\n",
      "Epoch 8/50\n",
      "27/27 [==============================] - 32s 1s/step - loss: 1.1617 - accuracy: 0.5810\n",
      "Epoch 9/50\n",
      "27/27 [==============================] - 33s 1s/step - loss: 1.1003 - accuracy: 0.5995\n",
      "Epoch 10/50\n",
      "27/27 [==============================] - 34s 1s/step - loss: 1.0504 - accuracy: 0.6343\n",
      "Epoch 11/50\n",
      "27/27 [==============================] - 32s 1s/step - loss: 1.0046 - accuracy: 0.6493\n",
      "Epoch 12/50\n",
      "27/27 [==============================] - 31s 1s/step - loss: 0.9830 - accuracy: 0.6644\n",
      "Epoch 13/50\n",
      "27/27 [==============================] - 31s 1s/step - loss: 1.0206 - accuracy: 0.6458\n",
      "Epoch 14/50\n",
      "27/27 [==============================] - 32s 1s/step - loss: 0.9735 - accuracy: 0.6678\n",
      "Epoch 15/50\n",
      "27/27 [==============================] - 31s 1s/step - loss: 0.8924 - accuracy: 0.7049\n",
      "Epoch 16/50\n",
      "27/27 [==============================] - 32s 1s/step - loss: 0.9289 - accuracy: 0.6829\n",
      "Epoch 17/50\n",
      "27/27 [==============================] - 34s 1s/step - loss: 0.8998 - accuracy: 0.6863\n",
      "Epoch 18/50\n",
      "27/27 [==============================] - 31s 1s/step - loss: 0.8664 - accuracy: 0.6852\n",
      "Epoch 19/50\n",
      "27/27 [==============================] - 32s 1s/step - loss: 0.8345 - accuracy: 0.7153\n",
      "Epoch 20/50\n",
      "27/27 [==============================] - 34s 1s/step - loss: 0.8639 - accuracy: 0.6956\n",
      "Epoch 21/50\n",
      "27/27 [==============================] - 31s 1s/step - loss: 0.8746 - accuracy: 0.7153\n",
      "Epoch 22/50\n",
      "27/27 [==============================] - 31s 1s/step - loss: 0.8173 - accuracy: 0.7373\n",
      "Epoch 23/50\n",
      "27/27 [==============================] - 31s 1s/step - loss: 0.7785 - accuracy: 0.7431\n",
      "Epoch 24/50\n",
      "27/27 [==============================] - 31s 1s/step - loss: 0.7817 - accuracy: 0.7546\n",
      "Epoch 25/50\n",
      "27/27 [==============================] - 31s 1s/step - loss: 0.7945 - accuracy: 0.7188\n",
      "Epoch 26/50\n",
      "27/27 [==============================] - 31s 1s/step - loss: 0.7772 - accuracy: 0.7315\n",
      "Epoch 27/50\n",
      "27/27 [==============================] - 30s 1s/step - loss: 0.8154 - accuracy: 0.7164\n",
      "Epoch 28/50\n",
      "27/27 [==============================] - 30s 1s/step - loss: 0.7081 - accuracy: 0.7546\n",
      "Epoch 29/50\n",
      "27/27 [==============================] - 30s 1s/step - loss: 0.7635 - accuracy: 0.7396\n",
      "Epoch 30/50\n",
      "27/27 [==============================] - 30s 1s/step - loss: 0.7880 - accuracy: 0.7280\n",
      "Epoch 31/50\n",
      "27/27 [==============================] - 30s 1s/step - loss: 0.7655 - accuracy: 0.7361\n",
      "Epoch 32/50\n",
      "27/27 [==============================] - 34s 1s/step - loss: 0.7872 - accuracy: 0.7350\n",
      "Epoch 33/50\n",
      "27/27 [==============================] - 32s 1s/step - loss: 0.7378 - accuracy: 0.7373\n",
      "Epoch 34/50\n",
      "27/27 [==============================] - 34s 1s/step - loss: 0.6617 - accuracy: 0.7755\n",
      "Epoch 35/50\n",
      "27/27 [==============================] - 30s 1s/step - loss: 0.7051 - accuracy: 0.7616\n",
      "Epoch 36/50\n",
      "27/27 [==============================] - 32s 1s/step - loss: 0.7289 - accuracy: 0.7650\n",
      "Epoch 37/50\n",
      "27/27 [==============================] - 30s 1s/step - loss: 0.7122 - accuracy: 0.7488\n",
      "Epoch 38/50\n",
      "27/27 [==============================] - 30s 1s/step - loss: 0.6816 - accuracy: 0.7674\n",
      "Epoch 39/50\n",
      "27/27 [==============================] - 30s 1s/step - loss: 0.7137 - accuracy: 0.7616\n",
      "Epoch 40/50\n",
      "27/27 [==============================] - 30s 1s/step - loss: 0.6359 - accuracy: 0.7801\n",
      "Epoch 41/50\n",
      "27/27 [==============================] - 30s 1s/step - loss: 0.6317 - accuracy: 0.7789\n",
      "Epoch 42/50\n",
      "27/27 [==============================] - 30s 1s/step - loss: 0.6659 - accuracy: 0.7720\n",
      "Epoch 43/50\n",
      "27/27 [==============================] - 34s 1s/step - loss: 0.6891 - accuracy: 0.7720\n",
      "Epoch 44/50\n",
      "27/27 [==============================] - 34s 1s/step - loss: 0.6302 - accuracy: 0.7801\n",
      "Epoch 45/50\n",
      "27/27 [==============================] - 34s 1s/step - loss: 0.6885 - accuracy: 0.7593\n",
      "Epoch 46/50\n",
      "27/27 [==============================] - 34s 1s/step - loss: 0.6275 - accuracy: 0.7882\n",
      "Epoch 47/50\n",
      "27/27 [==============================] - 30s 1s/step - loss: 0.5936 - accuracy: 0.8032\n",
      "Epoch 48/50\n",
      "27/27 [==============================] - 99s 4s/step - loss: 0.6448 - accuracy: 0.7755\n",
      "Epoch 49/50\n",
      "27/27 [==============================] - 100s 4s/step - loss: 0.6037 - accuracy: 0.7986\n",
      "Epoch 50/50\n",
      "27/27 [==============================] - 101s 4s/step - loss: 0.6262 - accuracy: 0.8021\n"
     ]
    }
   ],
   "source": [
    "history = model.fit(train_generator,\n",
    "                   epochs = 50,\n",
    "                   steps_per_epoch = len(train_generator))"
   ]
  },
  {
   "cell_type": "code",
   "execution_count": 11,
   "metadata": {},
   "outputs": [
    {
     "data": {
      "image/png": "[encoded data removed]",
      "text/plain": [
       "<Figure size 432x288 with 1 Axes>"
      ]
     },
     "metadata": {
      "needs_background": "light"
     },
     "output_type": "display_data"
    },
    {
     "data": {
      "text/plain": [
       "Text(0.5, 1.0, 'LOSS')"
      ]
     },
     "execution_count": 11,
     "metadata": {},
     "output_type": "execute_result"
    },
    {
     "data": {
      "image/png": "[encoded data removed]",
      "text/plain": [
       "<Figure size 432x288 with 1 Axes>"
      ]
     },
     "metadata": {
      "needs_background": "light"
     },
     "output_type": "display_data"
    }
   ],
   "source": [
    "plt.plot(history.history[\"loss\"], label = \"train_loss\")\n",
    "#plt.plot(history.history[\"val_loss\"], label = \"val_loss\")\n",
    "plt.legend()\n",
    "plt.show()\n",
    "plt.title(\"LOSS\")"
   ]
  },
  {
   "cell_type": "code",
   "execution_count": 12,
   "metadata": {},
   "outputs": [
    {
     "data": {
      "image/png": "[encoded data removed]",
      "text/plain": [
       "<Figure size 432x288 with 1 Axes>"
      ]
     },
     "metadata": {
      "needs_background": "light"
     },
     "output_type": "display_data"
    },
    {
     "data": {
      "text/plain": [
       "Text(0.5, 1.0, 'ACCURACY')"
      ]
     },
     "execution_count": 12,
     "metadata": {},
     "output_type": "execute_result"
    },
    {
     "data": {
      "image/png": "[encoded data removed]",
      "text/plain": [
       "<Figure size 432x288 with 1 Axes>"
      ]
     },
     "metadata": {
      "needs_background": "light"
     },
     "output_type": "display_data"
    }
   ],
   "source": [
    "plt.plot(history.history[\"accuracy\"], label = \"train_acc\")\n",
    "#plt.plot(history.history[\"val_accuracy\"], label = \"val_acc\")\n",
    "plt.legend()\n",
    "plt.show()\n",
    "plt.title(\"ACCURACY\")\n"
   ]
  },
  {
   "cell_type": "code",
   "execution_count": 13,
   "metadata": {},
   "outputs": [],
   "source": [
    "model.save(\"dance5.h5\")"
   ]
  }
 ],
 "metadata": {
  "kernelspec": {
   "display_name": "gpu_env",
   "language": "python",
   "name": "gpu_env"
  },
  "language_info": {
   "codemirror_mode": {
    "name": "ipython",
    "version": 3
   },
   "file_extension": ".py",
   "mimetype": "text/x-python",
   "name": "python",
   "nbconvert_exporter": "python",
   "pygments_lexer": "ipython3",
   "version": "3.6.10"
  }
 },
 "nbformat": 4,
 "nbformat_minor": 2
}
