{
 "cells": [
  {
   "cell_type": "code",
   "execution_count": 1,
   "metadata": {},
   "outputs": [],
   "source": [
    "import tensorflow.keras\n",
    "import numpy as np\n",
    "import cv2 \n",
    "import glob\n",
    "import os\n",
    "import csv\n",
    "import pandas as pd"
   ]
  },
  {
   "cell_type": "code",
   "execution_count": 12,
   "metadata": {},
   "outputs": [
    {
     "data": {
      "application/javascript": [
       "\n",
       "        if (window._pyforest_update_imports_cell) { window._pyforest_update_imports_cell('import tensorflow as tf'); }\n",
       "    "
      ],
      "text/plain": [
       "<IPython.core.display.Javascript object>"
      ]
     },
     "metadata": {},
     "output_type": "display_data"
    },
    {
     "name": "stdout",
     "output_type": "stream",
     "text": [
      "WARNING:tensorflow:No training configuration found in save file: the model was *not* compiled. Compile it manually.\n"
     ]
    }
   ],
   "source": [
    "model = tf.keras.models.load_model(\"keras_model.h5\")"
   ]
  },
  {
   "cell_type": "code",
   "execution_count": 13,
   "metadata": {},
   "outputs": [
    {
     "name": "stdout",
     "output_type": "stream",
     "text": [
      "['108.jpg', '11.jpg', '110.jpg', '112.jpg', '114.jpg', '119.jpg', '125.jpg', '128.jpg', '129.jpg', '13.jpg', '132.jpg', '138.jpg', '14.jpg', '145.jpg', '146.jpg', '147.jpg', '150.jpg', '152.jpg', '157.jpg', '162.jpg', '17.jpg', '170.jpg', '171.jpg', '173.jpg', '175.jpg', '183.jpg', '189.jpg', '193.jpg', '194.jpg', '196.jpg', '198.jpg', '20.jpg', '200.jpg', '202.jpg', '206.jpg', '210.jpg', '215.jpg', '216.jpg', '217.jpg', '220.jpg', '224.jpg', '226.jpg', '23.jpg', '232.jpg', '238.jpg', '239.jpg', '246.jpg', '256.jpg', '264.jpg', '269.jpg', '270.jpg', '271.jpg', '275.jpg', '278.jpg', '28.jpg', '280.jpg', '283.jpg', '284.jpg', '285.jpg', '286.jpg', '290.jpg', '291.jpg', '292.jpg', '301.jpg', '302.jpg', '306.jpg', '316.jpg', '317.jpg', '318.jpg', '323.jpg', '324.jpg', '33.jpg', '330.jpg', '332.jpg', '34.jpg', '340.jpg', '346.jpg', '349.jpg', '35.jpg', '354.jpg', '358.jpg', '360.jpg', '363.jpg', '366.jpg', '373.jpg', '374.jpg', '375.jpg', '378.jpg', '38.jpg', '380.jpg', '385.jpg', '386.jpg', '390.jpg', '392.jpg', '394.jpg', '398.jpg', '40.jpg', '401.jpg', '41.jpg', '410.jpg', '411.jpg', '414.jpg', '416.jpg', '421.jpg', '424.jpg', '429.jpg', '431.jpg', '437.jpg', '438.jpg', '439.jpg', '440.jpg', '441.jpg', '447.jpg', '448.jpg', '45.jpg', '456.jpg', '457.jpg', '458.jpg', '460.jpg', '461.jpg', '463.jpg', '465.jpg', '467.jpg', '470.jpg', '473.jpg', '479.jpg', '48.jpg', '482.jpg', '484.jpg', '485.jpg', '487.jpg', '495.jpg', '498.jpg', '505.jpg', '506.jpg', '507.jpg', '508.jpg', '510.jpg', '514.jpg', '517.jpg', '518.jpg', '520.jpg', '55.jpg', '57.jpg', '59.jpg', '6.jpg', '61.jpg', '64.jpg', '67.jpg', '71.jpg', '80.jpg', '86.jpg', '9.jpg', '92.jpg', '95.jpg', '97.jpg']\n"
     ]
    }
   ],
   "source": [
    "path = \"C:\\\\Users\\\\satya\\\\Dance_Form\\\\dataset\\\\test\"\n",
    "file = os.listdir(path)\n",
    "print(file)"
   ]
  },
  {
   "cell_type": "code",
   "execution_count": 14,
   "metadata": {},
   "outputs": [
    {
     "name": "stdout",
     "output_type": "stream",
     "text": [
      "156\n",
      "156\n"
     ]
    }
   ],
   "source": [
    "list_label = []\n",
    "pred_names = []\n",
    "for images in glob.iglob(\"C:/Users/satya/Dance_Form/dataset/test/*\"):\n",
    "    #print(images)\n",
    "    img = cv2.imread(images)\n",
    "    #print(img)\n",
    "    resized=cv2.resize(img,(224, 224))\n",
    "    normalized=resized/255.0\n",
    "    reshaped=np.reshape(normalized,(1, 224, 224,3))\n",
    "    result=model.predict(reshaped)\n",
    "    #print(result)\n",
    "    label=np.argmax(result,axis=1)[0]\n",
    "    list_label.append(label)\n",
    "for lab in list_label:\n",
    "    if lab == 0:\n",
    "        pred_names.append(\"bharatanatyam\")\n",
    "    elif lab == 1:\n",
    "        pred_names.append(\"kathak\")\n",
    "    elif lab == 2:\n",
    "        pred_names.append(\"kathakali\")\n",
    "    elif lab == 3:\n",
    "        pred_names.append(\"Kuchipudi\")\n",
    "    elif lab == 4:\n",
    "        pred_names.append(\"manipuri\")\n",
    "    elif lab == 5:\n",
    "        pred_names.append(\"mohiniyattam\")\n",
    "    elif lab == 6:\n",
    "        pred_names.append(\"odissi\")\n",
    "    elif lab == 7:\n",
    "        pred_names.append(\"sattriya\")\n",
    "print(len(pred_names))\n",
    "print(len(file))\n",
    "dict = {\"Image\": file, \"target\": pred_names}\n",
    "df = pd.DataFrame(dict)\n",
    "df.to_csv(\"test4.csv\", index = False)\n"
   ]
  }
 ],
 "metadata": {
  "kernelspec": {
   "display_name": "Python 3",
   "language": "python",
   "name": "python3"
  },
  "language_info": {
   "codemirror_mode": {
    "name": "ipython",
    "version": 3
   },
   "file_extension": ".py",
   "mimetype": "text/x-python",
   "name": "python",
   "nbconvert_exporter": "python",
   "pygments_lexer": "ipython3",
   "version": "3.7.3"
  }
 },
 "nbformat": 4,
 "nbformat_minor": 2
}
